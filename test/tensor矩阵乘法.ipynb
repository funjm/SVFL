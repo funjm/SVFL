{
 "cells": [
  {
   "cell_type": "code",
   "execution_count": 1,
   "id": "682117b4",
   "metadata": {},
   "outputs": [],
   "source": [
    "import torch"
   ]
  },
  {
   "cell_type": "code",
   "execution_count": 2,
   "id": "57256572",
   "metadata": {},
   "outputs": [],
   "source": [
    "common_representation = torch.tensor([[1., 0., 0., 0., 0., 0.],\n",
    "        [0., 2., 0., 0., 0., 0.],\n",
    "        [0., 0., 3., 0., 0., 0.],\n",
    "        [0., 0., 0., 4., 0., 0.],\n",
    "        [0., 0., 0., 0., 5., 0.],\n",
    "        [0., 0., 0., 0., 0., 6.],\n",
    "        [7., 0., 0., 0., 0., 0.],\n",
    "        [0., 8., 0., 0., 0., 0.],\n",
    "        [0., 0., 9., 0., 0., 0.],\n",
    "        [0., 0., 0., 10., 0., 0.],\n",
    "        [0., 0., 0., 0., 11., 0.],\n",
    "        [0., 0., 0., 0., 0., 12.],\n",
    "        [13., 0., 0., 0., 0., 0.],\n",
    "        [0., 14., 0., 0., 0., 0.],\n",
    "        [0., 0., 15., 0., 0., 0.],\n",
    "        [0., 0., 0., 16., 0., 0.]], requires_grad=True)"
   ]
  },
  {
   "cell_type": "code",
   "execution_count": 3,
   "id": "87bffda3",
   "metadata": {},
   "outputs": [
    {
     "data": {
      "text/plain": [
       "tensor([1., 0., 0., 0., 0., 0.], grad_fn=<SelectBackward>)"
      ]
     },
     "execution_count": 3,
     "metadata": {},
     "output_type": "execute_result"
    }
   ],
   "source": [
    "sample = common_representation[0]\n",
    "sample"
   ]
  },
  {
   "cell_type": "code",
   "execution_count": 4,
   "id": "10e58855",
   "metadata": {},
   "outputs": [
    {
     "data": {
      "text/plain": [
       "tensor(21., grad_fn=<SumBackward0>)"
      ]
     },
     "execution_count": 4,
     "metadata": {},
     "output_type": "execute_result"
    }
   ],
   "source": [
    "torch.sum(sample * common_representation)"
   ]
  },
  {
   "cell_type": "code",
   "execution_count": 13,
   "id": "7abc6bd1",
   "metadata": {},
   "outputs": [
    {
     "data": {
      "text/plain": [
       "tensor(21., grad_fn=<SumBackward0>)"
      ]
     },
     "execution_count": 13,
     "metadata": {},
     "output_type": "execute_result"
    }
   ],
   "source": [
    "torch.sum(torch.matmul(common_representation,sample.t()))"
   ]
  },
  {
   "cell_type": "code",
   "execution_count": 10,
   "id": "13c009ad",
   "metadata": {},
   "outputs": [
    {
     "data": {
      "text/plain": [
       "tensor(21., grad_fn=<SumBackward0>)"
      ]
     },
     "execution_count": 10,
     "metadata": {},
     "output_type": "execute_result"
    }
   ],
   "source": [
    "torch.sum(sample@common_representation.t())"
   ]
  },
  {
   "cell_type": "code",
   "execution_count": 14,
   "id": "ede7c3aa",
   "metadata": {},
   "outputs": [
    {
     "data": {
      "text/plain": [
       "tensor(1., grad_fn=<DotBackward>)"
      ]
     },
     "execution_count": 14,
     "metadata": {},
     "output_type": "execute_result"
    }
   ],
   "source": [
    "torch.matmul(sample,sample.t())"
   ]
  },
  {
   "cell_type": "code",
   "execution_count": 12,
   "id": "42788255",
   "metadata": {},
   "outputs": [
    {
     "data": {
      "text/plain": [
       "tensor(1., grad_fn=<DotBackward>)"
      ]
     },
     "execution_count": 12,
     "metadata": {},
     "output_type": "execute_result"
    }
   ],
   "source": [
    "sample@sample.t()"
   ]
  },
  {
   "cell_type": "code",
   "execution_count": null,
   "id": "9f3b87e7",
   "metadata": {},
   "outputs": [],
   "source": []
  }
 ],
 "metadata": {
  "kernelspec": {
   "display_name": "Python [conda env:FL] *",
   "language": "python",
   "name": "conda-env-FL-py"
  },
  "language_info": {
   "codemirror_mode": {
    "name": "ipython",
    "version": 3
   },
   "file_extension": ".py",
   "mimetype": "text/x-python",
   "name": "python",
   "nbconvert_exporter": "python",
   "pygments_lexer": "ipython3",
   "version": "3.6.13"
  }
 },
 "nbformat": 4,
 "nbformat_minor": 5
}
