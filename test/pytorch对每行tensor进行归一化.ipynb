{
 "cells": [
  {
   "cell_type": "code",
   "execution_count": 3,
   "id": "5cf8b958",
   "metadata": {},
   "outputs": [],
   "source": [
    "import torch\n",
    "import torch.nn.functional as F\n",
    "\n",
    "def tensor_normalize(tensor):\n",
    "    if len(tensor.shape) == 1:        \n",
    "        norm = F.normalize(tensor, p=1, dim=0)\n",
    "    else:\n",
    "        norm = F.normalize(tensor, p=1, dim=1)\n",
    "    return norm"
   ]
  },
  {
   "cell_type": "code",
   "execution_count": 44,
   "id": "8af6680d",
   "metadata": {},
   "outputs": [
    {
     "name": "stdout",
     "output_type": "stream",
     "text": [
      "tensor([[0., 1., 2.],\n",
      "        [3., 4., 5.],\n",
      "        [6., 7., 8.]])\n",
      "tensor([[0.0000, 0.3333, 0.6667],\n",
      "        [0.2500, 0.3333, 0.4167],\n",
      "        [0.2857, 0.3333, 0.3810]])\n"
     ]
    }
   ],
   "source": [
    "a = torch.arange(9, dtype= torch.float)\n",
    "a = a.reshape((3,3))\n",
    "print(a)\n",
    "'''\n",
    "tensor([[0., 1., 2.],\n",
    "        [3., 4., 5.],\n",
    "        [6., 7., 8.]])\n",
    "'''\n",
    "# 对二维数组按行归一化\n",
    "# p=2表示二范式, dim=1表示按行归一化\n",
    "\n",
    "print(tensor_normalize(a))"
   ]
  },
  {
   "cell_type": "code",
   "execution_count": 45,
   "id": "abd91f3c",
   "metadata": {},
   "outputs": [
    {
     "name": "stdout",
     "output_type": "stream",
     "text": [
      "torch.Size([3])\n",
      "tensor([0.0000, 0.3333, 0.6667])\n",
      "tensor([0.0000, 0.3333, 0.6667])\n"
     ]
    }
   ],
   "source": [
    "a = torch.tensor([0., 1., 2.])\n",
    "print(a.shape)\n",
    "b = tensor_normalize(a)\n",
    "print(b)\n",
    "\n",
    "b = F.normalize(a, p=1, dim=0)\n",
    "print(b)"
   ]
  },
  {
   "cell_type": "code",
   "execution_count": 15,
   "id": "8a470a30",
   "metadata": {},
   "outputs": [
    {
     "data": {
      "text/plain": [
       "0.4472135954999579"
      ]
     },
     "execution_count": 15,
     "metadata": {},
     "output_type": "execute_result"
    }
   ],
   "source": [
    "1/5**(0.5)"
   ]
  },
  {
   "cell_type": "code",
   "execution_count": 46,
   "id": "ea57f6d3",
   "metadata": {},
   "outputs": [
    {
     "name": "stdout",
     "output_type": "stream",
     "text": [
      "tensor([-0.1239,  0.1263, -0.1085, -0.1022, -0.0058, -0.1075,  0.1248,  0.1468,\n",
      "         0.0970, -0.0572])\n"
     ]
    }
   ],
   "source": [
    "a= torch.tensor([-0.1483,  0.1511, -0.1298, -0.1223, -0.0070, -0.1287,  0.1493,  0.1757,\n",
    "         0.1161, -0.0684])\n",
    "print(tensor_normalize(a))"
   ]
  },
  {
   "cell_type": "code",
   "execution_count": 4,
   "id": "5f37c145",
   "metadata": {},
   "outputs": [],
   "source": [
    "student_predict_score=torch.tensor([-0.2469,  0.0155,  0.0401, -0.0724, -0.0276, -0.1573, -0.1092, -0.2357,\n",
    "        -0.0060, -0.0894])\n",
    "the_contrastive = torch.tensor([ 0.0941, -0.1175,  0.0143, -0.0030, -0.1263, -0.1258,  0.1655,  0.2261,\n",
    "        -0.0558, -0.0717])\n",
    "student_contrastive_loss=torch.tensor([-0.3410,  0.1330,  0.0258, -0.0694,  0.0987, -0.0315, -0.2746, -0.4618,\n",
    "         0.0498, -0.0177])\n"
   ]
  },
  {
   "cell_type": "code",
   "execution_count": 5,
   "id": "c178fec6",
   "metadata": {},
   "outputs": [
    {
     "data": {
      "text/plain": [
       "tensor([-0.3410,  0.1330,  0.0258, -0.0694,  0.0987, -0.0315, -0.2747, -0.4618,\n",
       "         0.0498, -0.0177])"
      ]
     },
     "execution_count": 5,
     "metadata": {},
     "output_type": "execute_result"
    }
   ],
   "source": [
    "student_predict_score-the_contrastive"
   ]
  },
  {
   "cell_type": "code",
   "execution_count": 5,
   "id": "9128d5ad",
   "metadata": {},
   "outputs": [
    {
     "data": {
      "text/plain": [
       "torch.float32"
      ]
     },
     "execution_count": 5,
     "metadata": {},
     "output_type": "execute_result"
    }
   ],
   "source": [
    "import numpy as np\n",
    "import torch\n",
    "a = [3.,4]\n",
    "b = np.array(a)\n",
    "c = torch.tensor(b, dtype=torch.float32)\n",
    "c.dtype"
   ]
  },
  {
   "cell_type": "code",
   "execution_count": 11,
   "id": "2c0089e2",
   "metadata": {},
   "outputs": [
    {
     "data": {
      "text/plain": [
       "tensor([[2., 2., 2.],\n",
       "        [2., 2., 2.]])"
      ]
     },
     "execution_count": 11,
     "metadata": {},
     "output_type": "execute_result"
    }
   ],
   "source": [
    "c= torch.ones((2,3))*2\n",
    "c"
   ]
  },
  {
   "cell_type": "code",
   "execution_count": 9,
   "id": "b9eaee23",
   "metadata": {},
   "outputs": [
    {
     "data": {
      "text/plain": [
       "tensor([[1., 1., 1.],\n",
       "        [1., 1., 1.]])"
      ]
     },
     "execution_count": 9,
     "metadata": {},
     "output_type": "execute_result"
    }
   ],
   "source": [
    "a = torch.ones((2,3))\n",
    "a"
   ]
  },
  {
   "cell_type": "code",
   "execution_count": 12,
   "id": "40c203ac",
   "metadata": {},
   "outputs": [
    {
     "data": {
      "text/plain": [
       "tensor([[2., 2., 2.],\n",
       "        [2., 2., 2.]])"
      ]
     },
     "execution_count": 12,
     "metadata": {},
     "output_type": "execute_result"
    }
   ],
   "source": [
    "c/a"
   ]
  },
  {
   "cell_type": "code",
   "execution_count": 18,
   "id": "691fab9a",
   "metadata": {},
   "outputs": [
    {
     "name": "stdout",
     "output_type": "stream",
     "text": [
      "324\n",
      "324\n"
     ]
    }
   ],
   "source": [
    "a = 1\n",
    "a = input()\n",
    "print(a)"
   ]
  },
  {
   "cell_type": "code",
   "execution_count": null,
   "id": "bfd42a41",
   "metadata": {},
   "outputs": [],
   "source": []
  }
 ],
 "metadata": {
  "kernelspec": {
   "display_name": "Python [conda env:FL] *",
   "language": "python",
   "name": "conda-env-FL-py"
  },
  "language_info": {
   "codemirror_mode": {
    "name": "ipython",
    "version": 3
   },
   "file_extension": ".py",
   "mimetype": "text/x-python",
   "name": "python",
   "nbconvert_exporter": "python",
   "pygments_lexer": "ipython3",
   "version": "3.6.13"
  }
 },
 "nbformat": 4,
 "nbformat_minor": 5
}
