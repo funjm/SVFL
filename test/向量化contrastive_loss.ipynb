{
 "cells": [
  {
   "cell_type": "code",
   "execution_count": 1,
   "id": "4f0800f7",
   "metadata": {},
   "outputs": [],
   "source": [
    "import torch"
   ]
  },
  {
   "cell_type": "code",
   "execution_count": 6,
   "id": "f6376f3d",
   "metadata": {},
   "outputs": [
    {
     "name": "stdout",
     "output_type": "stream",
     "text": [
      "tensor([[0., 0., 0., 0., 0., 0.],\n",
      "        [0., 0., 0., 0., 0., 0.],\n",
      "        [0., 0., 0., 0., 0., 0.],\n",
      "        [0., 0., 0., 0., 0., 0.],\n",
      "        [0., 0., 0., 0., 0., 0.],\n",
      "        [0., 0., 0., 0., 0., 0.],\n",
      "        [0., 0., 0., 0., 0., 0.],\n",
      "        [0., 0., 0., 0., 0., 0.],\n",
      "        [0., 0., 0., 0., 0., 0.],\n",
      "        [0., 0., 0., 0., 0., 0.],\n",
      "        [0., 0., 0., 0., 0., 0.],\n",
      "        [0., 0., 0., 0., 0., 0.],\n",
      "        [0., 0., 0., 0., 0., 0.],\n",
      "        [0., 0., 0., 0., 0., 0.],\n",
      "        [0., 0., 0., 0., 0., 0.],\n",
      "        [0., 0., 0., 0., 0., 0.]], requires_grad=True)\n"
     ]
    }
   ],
   "source": [
    "data = torch.zeros((16, 6), requires_grad=True)\n",
    "print(data)"
   ]
  },
  {
   "cell_type": "code",
   "execution_count": 45,
   "id": "d88906a8",
   "metadata": {},
   "outputs": [],
   "source": [
    "\n",
    "\n",
    "common_representation = torch.tensor([[1., 0., 0., 0., 0., 0.],\n",
    "        [0., 2., 0., 0., 0., 0.],\n",
    "        [0., 0., 3., 0., 0., 0.],\n",
    "        [0., 0., 0., 4., 0., 0.],\n",
    "        [0., 0., 0., 0., 5., 0.],\n",
    "        [0., 0., 0., 0., 0., 6.],\n",
    "        [7., 0., 0., 0., 0., 0.],\n",
    "        [0., 8., 0., 0., 0., 0.],\n",
    "        [0., 0., 9., 0., 0., 0.],\n",
    "        [0., 0., 0., 10., 0., 0.],\n",
    "        [0., 0., 0., 0., 11., 0.],\n",
    "        [0., 0., 0., 0., 0., 12.],\n",
    "        [13., 0., 0., 0., 0., 0.],\n",
    "        [0., 14., 0., 0., 0., 0.],\n",
    "        [0., 0., 15., 0., 0., 0.],\n",
    "        [0., 0., 0., 16., 0., 0.]], requires_grad=True)\n"
   ]
  },
  {
   "cell_type": "code",
   "execution_count": 2,
   "id": "2b6ccfef",
   "metadata": {},
   "outputs": [],
   "source": [
    "import time\n",
    "import torch\n",
    "\n",
    "# 200个一类\n",
    "featureSet_size = 200\n",
    "training_samples_size = 1600\n",
    "other_featureSet_size = training_samples_size - featureSet_size\n",
    "common_representation = torch.rand((training_samples_size, 64), device=\"cuda:1\", requires_grad=True)\n",
    "\n",
    "\n",
    "\n",
    "weight = (featureSet_size+other_featureSet_size)/featureSet_size/other_featureSet_size"
   ]
  },
  {
   "cell_type": "code",
   "execution_count": 6,
   "id": "116b971a",
   "metadata": {},
   "outputs": [
    {
     "name": "stdout",
     "output_type": "stream",
     "text": [
      "tensor(0.0795, grad_fn=<DivBackward0>)\n",
      "447.4881558418274\n"
     ]
    }
   ],
   "source": [
    "start = time.time()\n",
    "\n",
    "contrastive_loss = torch.tensor(0, dtype=torch.float32)\n",
    "for i, sample in enumerate(common_representation):\n",
    "    label_i = int(i / featureSet_size)\n",
    "\n",
    "    for j, other_sample in enumerate(common_representation):\n",
    "        if i == j:\n",
    "            continue\n",
    "        label_j = int(j / featureSet_size)\n",
    "        \n",
    "#         print(\"the {} and {}\".format(i, j))\n",
    "\n",
    "        # 最小化loss, 异类loss值为正,同类loss值为负\n",
    "        if label_i == label_j:\n",
    "            # 对应位置相乘,再求和\n",
    "#             print(\"1: {}\".format(torch.sum(sample * other_sample)))\n",
    "#             print(\"2: {}\".format(sample@other_sample))\n",
    "\n",
    "            contrastive_loss -= torch.sum(sample * other_sample) / featureSet_size\n",
    "        else:\n",
    "            contrastive_loss += torch.sum(sample * other_sample) / (training_samples_size-featureSet_size)\n",
    "#             print(\"1: {}\".format(torch.sum(sample * other_sample)))\n",
    "#             print(\"2: {}\".format(sample@other_sample))\n",
    "#     print(contrastive_loss)\n",
    "\n",
    "contrastive_loss /= common_representation.size()[0]\n",
    "print(contrastive_loss)\n",
    "end = time.time()\n",
    "print(str(end - start))"
   ]
  },
  {
   "cell_type": "markdown",
   "id": "7e7440f0",
   "metadata": {},
   "source": [
    "## 应用元素相乘"
   ]
  },
  {
   "cell_type": "code",
   "execution_count": 12,
   "id": "fc757104",
   "metadata": {},
   "outputs": [
    {
     "name": "stdout",
     "output_type": "stream",
     "text": [
      "tensor(0.0805, grad_fn=<DivBackward0>)\n",
      "0.7855644226074219\n"
     ]
    }
   ],
   "source": [
    "start = time.time()\n",
    "\n",
    "contrastive_loss = torch.tensor(0, dtype=torch.float32)\n",
    "for i, sample in enumerate(common_representation):\n",
    "    label_i = int(i / featureSet_size)\n",
    "    label_list = [i+featureSet_size * label_i for i in range(featureSet_size)]\n",
    "    all_samples = torch.sum(sample * common_representation) / other_featureSet_size\n",
    "    class_samples = torch.sum(sample * common_representation[label_list]) *  weight\n",
    "    self_samples = torch.sum(sample * sample) / featureSet_size\n",
    "    contrastive_loss += all_samples - class_samples + self_samples   \n",
    "contrastive_loss /= common_representation.size()[0]\n",
    "print(contrastive_loss)\n",
    "\n",
    "end = time.time()\n",
    "print(str(end - start))"
   ]
  },
  {
   "cell_type": "markdown",
   "id": "cf6aa496",
   "metadata": {},
   "source": [
    "## 使用@"
   ]
  },
  {
   "cell_type": "code",
   "execution_count": 15,
   "id": "02e198fc",
   "metadata": {},
   "outputs": [
    {
     "name": "stdout",
     "output_type": "stream",
     "text": [
      "tensor(0.0805, grad_fn=<DivBackward0>)\n",
      "0.9034080505371094\n"
     ]
    }
   ],
   "source": [
    "start = time.time()\n",
    "\n",
    "contrastive_loss = torch.tensor(0, dtype=torch.float32)\n",
    "for i, sample in enumerate(common_representation):\n",
    "    label_i = int(i / featureSet_size)\n",
    "    label_list = [i+featureSet_size * label_i for i in range(featureSet_size)]\n",
    "    all_samples = torch.sum(common_representation@sample.t()) / other_featureSet_size\n",
    "    class_samples = torch.sum(common_representation[label_list]@sample.t()) *  weight\n",
    "    self_samples = sample@sample.t() / featureSet_size\n",
    "    contrastive_loss += all_samples - class_samples + self_samples   \n",
    "contrastive_loss /= common_representation.size()[0]\n",
    "print(contrastive_loss)\n",
    "\n",
    "end = time.time()\n",
    "print(str(end - start))"
   ]
  },
  {
   "cell_type": "markdown",
   "id": "4ad66fb0",
   "metadata": {},
   "source": [
    "## 使用matmul"
   ]
  },
  {
   "cell_type": "code",
   "execution_count": 26,
   "id": "af0f9fd1",
   "metadata": {},
   "outputs": [
    {
     "name": "stdout",
     "output_type": "stream",
     "text": [
      "tensor(0.0805, grad_fn=<DivBackward0>)\n",
      "0.8521888256072998\n"
     ]
    }
   ],
   "source": [
    "start = time.time()\n",
    "\n",
    "contrastive_loss = torch.tensor(0, dtype=torch.float32)\n",
    "for i, sample in enumerate(common_representation):\n",
    "    label_i = int(i / featureSet_size)\n",
    "    label_list = [i+featureSet_size * label_i for i in range(featureSet_size)]\n",
    "    all_samples = torch.sum(torch.matmul(common_representation, sample.t())) / other_featureSet_size\n",
    "    \n",
    "    class_samples = torch.sum(torch.matmul(common_representation[label_list], sample.t())) *  weight\n",
    "    self_samples = torch.matmul(sample,sample.t()) / featureSet_size\n",
    "    contrastive_loss += all_samples - class_samples + self_samples   \n",
    "contrastive_loss /= common_representation.size()[0]\n",
    "print(contrastive_loss)\n",
    "\n",
    "end = time.time()\n",
    "print(str(end - start))"
   ]
  },
  {
   "cell_type": "code",
   "execution_count": 21,
   "id": "71d937cf",
   "metadata": {},
   "outputs": [
    {
     "name": "stdout",
     "output_type": "stream",
     "text": [
      "tensor(0.0805, grad_fn=<DivBackward0>)\n",
      "0.721799373626709\n"
     ]
    }
   ],
   "source": [
    "start = time.time()\n",
    "\n",
    "contrastive_loss = torch.tensor(0, dtype=torch.float32)\n",
    "for i, sample in enumerate(common_representation):\n",
    "    label_i = int(i / featureSet_size)\n",
    "    \n",
    "    label_list = [i+featureSet_size * label_i for i in range(featureSet_size)]\n",
    "    \n",
    "#     print(sample * common_representation)\n",
    "    all_samples = torch.sum(sample * common_representation) / other_featureSet_size\n",
    "#     print((sample * common_representation[label_list]))\n",
    "    class_samples = torch.sum(sample * common_representation[label_list]) *  weight\n",
    "#     print(sample * sample)\n",
    "    self_samples = torch.sum(sample * sample) / featureSet_size\n",
    "    contrastive_loss += all_samples - class_samples + self_samples   \n",
    "#     print(contrastive_loss)\n",
    "contrastive_loss /= common_representation.size()[0]\n",
    "print(contrastive_loss)\n",
    "\n",
    "end = time.time()\n",
    "print(str(end - start))"
   ]
  },
  {
   "cell_type": "code",
   "execution_count": null,
   "id": "24db24a3",
   "metadata": {},
   "outputs": [],
   "source": []
  },
  {
   "cell_type": "code",
   "execution_count": 25,
   "id": "f967411b",
   "metadata": {},
   "outputs": [
    {
     "name": "stdout",
     "output_type": "stream",
     "text": [
      "tensor([[1., 2., 3., 4.],\n",
      "        [1., 2., 3., 4.],\n",
      "        [1., 2., 3., 4.]])\n"
     ]
    },
    {
     "data": {
      "text/plain": [
       "tensor(30.)"
      ]
     },
     "execution_count": 25,
     "metadata": {},
     "output_type": "execute_result"
    }
   ],
   "source": [
    "a = torch.ones(3,4)\n",
    "b = torch.Tensor([1,2,3,4])\n",
    "c = a * b\n",
    "print(c)\n",
    "torch.sum(c)"
   ]
  },
  {
   "cell_type": "code",
   "execution_count": null,
   "id": "1341fb18",
   "metadata": {},
   "outputs": [],
   "source": []
  }
 ],
 "metadata": {
  "kernelspec": {
   "display_name": "Python [conda env:FL] *",
   "language": "python",
   "name": "conda-env-FL-py"
  },
  "language_info": {
   "codemirror_mode": {
    "name": "ipython",
    "version": 3
   },
   "file_extension": ".py",
   "mimetype": "text/x-python",
   "name": "python",
   "nbconvert_exporter": "python",
   "pygments_lexer": "ipython3",
   "version": "3.6.13"
  }
 },
 "nbformat": 4,
 "nbformat_minor": 5
}
