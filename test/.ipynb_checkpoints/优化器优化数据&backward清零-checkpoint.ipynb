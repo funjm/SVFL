{
 "cells": [
  {
   "cell_type": "markdown",
   "id": "69c494fe",
   "metadata": {},
   "source": [
    "## 优化器优化数据"
   ]
  },
  {
   "cell_type": "code",
   "execution_count": 1,
   "id": "87d1c2d2",
   "metadata": {},
   "outputs": [],
   "source": [
    "import os\n",
    "import numpy as np\n",
    "import torch\n",
    "import torch.nn as nn\n",
    "from torch.utils.data import DataLoader\n",
    "import torchvision.transforms as transforms\n",
    "import torch.optim as optim\n",
    "from matplotlib import pyplot as plt"
   ]
  },
  {
   "cell_type": "code",
   "execution_count": 2,
   "id": "81e323c2",
   "metadata": {},
   "outputs": [],
   "source": [
    "class StudentMLP(nn.Module):\n",
    "    def __init__(self):\n",
    "        super(StudentMLP, self).__init__()\n",
    "        self.fc1 = nn.Linear(4, 4)\n",
    "\n",
    "    def forward(self, x):\n",
    "        x = self.fc1(x)\n",
    "        return x\n",
    "\n",
    "    def initialize_weights(self):\n",
    "        for m in self.modules():\n",
    "            m.weight.data.fill_(1)\n",
    "            m.bias.data.zero_()"
   ]
  },
  {
   "cell_type": "code",
   "execution_count": null,
   "id": "de8f5774",
   "metadata": {},
   "outputs": [],
   "source": [
    "data = torch.ones(4)\n",
    "net = "
   ]
  },
  {
   "cell_type": "markdown",
   "id": "1e79cdb5",
   "metadata": {},
   "source": [
    "## 连续backward,step"
   ]
  },
  {
   "cell_type": "code",
   "execution_count": null,
   "id": "fedf3b83",
   "metadata": {},
   "outputs": [],
   "source": []
  },
  {
   "cell_type": "code",
   "execution_count": null,
   "id": "96bc7c40",
   "metadata": {},
   "outputs": [],
   "source": []
  }
 ],
 "metadata": {
  "kernelspec": {
   "display_name": "Python [conda env:FL] *",
   "language": "python",
   "name": "conda-env-FL-py"
  },
  "language_info": {
   "codemirror_mode": {
    "name": "ipython",
    "version": 3
   },
   "file_extension": ".py",
   "mimetype": "text/x-python",
   "name": "python",
   "nbconvert_exporter": "python",
   "pygments_lexer": "ipython3",
   "version": "3.6.13"
  }
 },
 "nbformat": 4,
 "nbformat_minor": 5
}
