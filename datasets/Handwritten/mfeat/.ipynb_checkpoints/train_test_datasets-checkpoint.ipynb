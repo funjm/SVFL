{
 "cells": [
  {
   "cell_type": "code",
   "execution_count": null,
   "id": "a7909a73",
   "metadata": {},
   "outputs": [],
   "source": [
    "# 选取每个类的前TRAIN_PRECENT比例生成训练集"
   ]
  },
  {
   "cell_type": "markdown",
   "id": "ad2d0cb0",
   "metadata": {},
   "source": [
    "# py程序"
   ]
  },
  {
   "cell_type": "code",
   "execution_count": null,
   "id": "edb995c4",
   "metadata": {},
   "outputs": [],
   "source": [
    "import os\n",
    "import random\n",
    "import shutil\n",
    "import numpy as np\n",
    "\n",
    "BASE_DIR = os.path.dirname(os.path.abspath(__file__))\n",
    "\n",
    "# 原数据文件夹地址\n",
    "file_name = 'mfeat-fou'\n",
    "\n",
    "DATASIZE = 2000\n",
    "TRAIN_PRECENT = 0.8\n",
    "\n",
    "\n",
    "def makedir(new_dir):\n",
    "    if not os.path.exists(new_dir):\n",
    "        os.makedirs(new_dir)\n",
    "\n",
    "if __name__ == '__main__':\n",
    "    dataset_file = os.path.abspath(os.path.join(BASE_DIR, \"..\", \"datasets\", \"Handwritten\", 'mfeat', file_name))\n",
    "    if not os.path.exists(dataset_file):\n",
    "        raise Exception(\"\\n{} 不存在，请下载 mfeat 放到\\n{} 下，并解压即可\".format(\n",
    "            dataset_file, os.path.dirname(dataset_file)))\n",
    "    print(dataset_file)\n",
    "\n",
    "    # 分割后存放的文件夹\n",
    "    split_dir = os.path.abspath(os.path.join(BASE_DIR, \"..\", \"datasets\", \"Handwritten\", 'mfeat', \"splite\"))\n",
    "    print(split_dir)\n",
    "    makedir(split_dir)\n",
    "\n",
    "    train_data_path = os.path.join(split_dir, \"train_data.npy\")\n",
    "    test_data_path = os.path.join(split_dir, \"test_data.npy\")\n",
    "    train_data = list()\n",
    "    test_data = list()\n",
    "    train_size_per_class = DATASIZE * TRAIN_PRECENT / 10\n",
    "\n",
    "    with open(dataset_file, 'r') as f:\n",
    "        for i in range(DATASIZE):\n",
    "            data = f.readline()\n",
    "            data_list = data.split()\n",
    "            data = np.array(data_list).astype(np.float32)\n",
    "\n",
    "            if (i % 200) < train_size_per_class:\n",
    "                train_data.append(data)\n",
    "            else:\n",
    "                test_data.append(data)\n",
    "\n",
    "    np.save(train_data_path, train_data)\n",
    "    np.save(test_data_path, test_data)\n",
    "\n",
    "    train_data = np.load(train_data_path)\n",
    "    print(train_data)\n",
    "    print(type(train_data), len(train_data))\n",
    "\n",
    "    test_data = np.load(test_data_path)\n",
    "    print(test_data)\n",
    "    print(type(test_data), len(test_data))"
   ]
  },
  {
   "cell_type": "markdown",
   "id": "9cf7e464",
   "metadata": {},
   "source": [
    "# ipynb过程版"
   ]
  },
  {
   "cell_type": "code",
   "execution_count": 48,
   "id": "31fa2a39",
   "metadata": {},
   "outputs": [],
   "source": [
    "DATASIZE = 2000\n",
    "TRAIN_PRECENT = 0.8\n",
    "file_path = './mfeat-fou'"
   ]
  },
  {
   "cell_type": "code",
   "execution_count": 49,
   "id": "12128b1b",
   "metadata": {},
   "outputs": [],
   "source": [
    "train_data = list()\n",
    "test_data = list()\n",
    "train_size_per_class = DATASIZE*TRAIN_PRECENT/10\n",
    "\n",
    "with open(file_path, 'r') as f:\n",
    "    for i in range(DATASIZE):    \n",
    "        data = f.readline()\n",
    "        data_list = data.split()\n",
    "        data = np.array(data_list).astype(np.float32)\n",
    "\n",
    "        if i%200 < train_size_per_class:\n",
    "            train_data.append(data)\n",
    "        else:\n",
    "            test_data.append(data)"
   ]
  },
  {
   "cell_type": "code",
   "execution_count": 50,
   "id": "0b76744c",
   "metadata": {},
   "outputs": [],
   "source": [
    "np.save('train_data.npy',train_data)\n",
    "np.save('test_data.npy',test_data)"
   ]
  },
  {
   "cell_type": "code",
   "execution_count": 51,
   "id": "1e0011ee",
   "metadata": {},
   "outputs": [
    {
     "name": "stdout",
     "output_type": "stream",
     "text": [
      "[[0.06588172 0.19731168 0.10382563 ... 0.39436573 0.04997072 0.34487095]\n",
      " [0.04914215 0.17597067 0.10551464 ... 0.44527712 0.08397801 0.35409194]\n",
      " [0.03417192 0.22764888 0.10876636 ... 0.4450291  0.07123367 0.2614646 ]\n",
      " ...\n",
      " [0.35929915 0.2546123  0.33042958 ... 0.18561096 0.03936484 0.11806959]\n",
      " [0.30502197 0.20836288 0.3478474  ... 0.1963953  0.0546465  0.13366978]\n",
      " [0.13653637 0.11354455 0.17926826 ... 0.26661938 0.15348114 0.07858453]]\n",
      "<class 'numpy.ndarray'> 1600\n"
     ]
    }
   ],
   "source": [
    "numpy_array = np.load('train_data.npy')\n",
    "print(numpy_array)\n",
    "print(type(numpy_array), len(numpy_array))"
   ]
  },
  {
   "cell_type": "code",
   "execution_count": 52,
   "id": "9a212b85",
   "metadata": {},
   "outputs": [
    {
     "name": "stdout",
     "output_type": "stream",
     "text": [
      "[[0.02056984 0.16219252 0.11463758 ... 0.42874476 0.11230115 0.3281839 ]\n",
      " [0.05248701 0.16079222 0.1318473  ... 0.41109172 0.09037842 0.36569372]\n",
      " [0.0563134  0.12075238 0.10159631 ... 0.4093994  0.07226747 0.43177667]\n",
      " ...\n",
      " [0.33560595 0.318426   0.25794822 ... 0.14157604 0.03877594 0.11459086]\n",
      " [0.25390962 0.1712024  0.302622   ... 0.23032165 0.10366427 0.1300027 ]\n",
      " [0.27157485 0.14903681 0.23275253 ... 0.27576947 0.02107437 0.08524072]]\n",
      "<class 'numpy.ndarray'> 400\n"
     ]
    }
   ],
   "source": [
    "numpy_array = np.load('test_data.npy')\n",
    "print(numpy_array)\n",
    "print(type(numpy_array), len(numpy_array))"
   ]
  },
  {
   "cell_type": "code",
   "execution_count": null,
   "id": "1890d42c",
   "metadata": {},
   "outputs": [],
   "source": []
  }
 ],
 "metadata": {
  "kernelspec": {
   "display_name": "Python [conda env:FL] *",
   "language": "python",
   "name": "conda-env-FL-py"
  },
  "language_info": {
   "codemirror_mode": {
    "name": "ipython",
    "version": 3
   },
   "file_extension": ".py",
   "mimetype": "text/x-python",
   "name": "python",
   "nbconvert_exporter": "python",
   "pygments_lexer": "ipython3",
   "version": "3.6.13"
  }
 },
 "nbformat": 4,
 "nbformat_minor": 5
}
