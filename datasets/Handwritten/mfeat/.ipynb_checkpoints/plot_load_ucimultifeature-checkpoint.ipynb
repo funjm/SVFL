{
 "cells": [
  {
   "cell_type": "code",
   "execution_count": null,
   "metadata": {},
   "outputs": [],
   "source": [
    "%matplotlib inline"
   ]
  },
  {
   "cell_type": "markdown",
   "metadata": {},
   "source": [
    "\n",
    "# Loading and Viewing the UCI Multiple Features Dataset\n",
    "\n",
    "In this tutorial we demonstrate how to load and quickly visualize the\n",
    "Multiple Features Dataset [1] from the UCI repository, which is available\n",
    "in mvlearn. This dataset can be a good tool for analyzing the\n",
    "effectiveness of multiview algorithms. It contains 6 views of handwritten\n",
    "digit images, thus allowing for analysis of multiview algorithms in\n",
    "multiclass or unsupervised tasks.\n",
    "\n",
    "[1] M. van Breukelen, R.P.W. Duin, D.M.J. Tax, and J.E. den Hartog,\n",
    "Handwritten digit recognition by combined classifiers,\n",
    "Kybernetika, vol. 34, no. 4, 1998, 381-386\n"
   ]
  },
  {
   "cell_type": "code",
   "execution_count": null,
   "metadata": {},
   "outputs": [],
   "source": [
    "# License: MIT\n",
    "\n",
    "from mvlearn.datasets import load_UCImultifeature\n",
    "from mvlearn.plotting import quick_visualize"
   ]
  },
  {
   "cell_type": "markdown",
   "metadata": {},
   "source": [
    "## Load the data and labels\n",
    "\n",
    "Here We can load the entire dataset (all 10 digits). Then, visualize in 2D.\n",
    "\n"
   ]
  },
  {
   "cell_type": "code",
   "execution_count": null,
   "metadata": {},
   "outputs": [],
   "source": [
    "# Load entire dataset\n",
    "full_data, full_labels = load_UCImultifeature()\n",
    "\n",
    "print(\"Full Dataset\\n\")\n",
    "print(\"Views = \" + str(len(full_data)))\n",
    "print(\"First view shape = \" + str(full_data[0].shape))\n",
    "print(\"Labels shape = \" + str(full_labels.shape))\n",
    "\n",
    "quick_visualize(full_data, labels=full_labels, title=\"10-class data\")"
   ]
  },
  {
   "cell_type": "markdown",
   "metadata": {},
   "source": [
    "## Load only 2 Classes of the Data\n",
    "\n",
    "If we want only a binary classification setup, we can choose to only load\n",
    "2 of the classes. Also, we can shuffle the data and set the seed for\n",
    "reproducibility. Then, we visualize in 2D.\n",
    "\n"
   ]
  },
  {
   "cell_type": "code",
   "execution_count": null,
   "metadata": {},
   "outputs": [],
   "source": [
    "partial_data, partial_labels = load_UCImultifeature(\n",
    "    select_labeled=[0, 1], shuffle=True, random_state=42)\n",
    "\n",
    "print(\"\\n\\nPartial Dataset (only 0's and 1's)\\n\")\n",
    "print(\"Views = \" + str(len(partial_data)))\n",
    "print(\"First view shape = \" + str(partial_data[0].shape))\n",
    "print(\"Labels shape = \" + str(partial_labels.shape))\n",
    "\n",
    "quick_visualize(partial_data, labels=partial_labels, title=\"2-class data\")"
   ]
  }
 ],
 "metadata": {
  "kernelspec": {
   "display_name": "Python 3",
   "language": "python",
   "name": "python3"
  },
  "language_info": {
   "codemirror_mode": {
    "name": "ipython",
    "version": 3
   },
   "file_extension": ".py",
   "mimetype": "text/x-python",
   "name": "python",
   "nbconvert_exporter": "python",
   "pygments_lexer": "ipython3",
   "version": "3.8.5"
  }
 },
 "nbformat": 4,
 "nbformat_minor": 1
}
